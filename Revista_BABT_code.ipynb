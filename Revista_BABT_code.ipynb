{
  "nbformat": 4,
  "nbformat_minor": 0,
  "metadata": {
    "colab": {
      "name": "Revista BABT code.ipynb",
      "provenance": [],
      "collapsed_sections": []
    },
    "kernelspec": {
      "name": "python3",
      "display_name": "Python 3"
    }
  },
  "cells": [
    {
      "cell_type": "markdown",
      "metadata": {
        "id": "PI3oweveJrUT"
      },
      "source": [
        "#Paper Title: Analysis of Artificial Neural Networks Models for Forecasting Solar Photovoltaic Generation\r\n",
        "    Authors: Wentz VH; Maciel JN; Ledesma JJG; Ando Junior, OH\r\n",
        "    Objetive \"Revista BABT code.ipynb\": Create and train ANN models and test\r\n",
        "    Updated: 08/03/2021\r\n",
        "\r\n"
      ]
    },
    {
      "cell_type": "markdown",
      "metadata": {
        "id": "uMW7VOIFB-bB"
      },
      "source": [
        "# Imports"
      ]
    },
    {
      "cell_type": "code",
      "metadata": {
        "id": "42i_mxhqB_-_"
      },
      "source": [
        "from train_utils import *\r\n",
        "from utils import *\r\n",
        "\r\n",
        "import numpy as np\r\n",
        "import pandas as pd\r\n",
        "import matplotlib.pyplot as plt\r\n",
        "import math\r\n",
        "\r\n",
        "import tensorflow as tf\r\n",
        "from tensorflow.keras.backend import clear_session\r\n",
        "from tensorflow.keras.models import Sequential, load_model\r\n",
        "from tensorflow.keras.initializers import GlorotNormal\r\n",
        "from tensorflow.keras.layers import Dense, Dropout, BatchNormalization\r\n",
        "from tensorflow.keras.callbacks import Callback, EarlyStopping, ModelCheckpoint\r\n",
        "\r\n",
        "from sklearn.metrics import r2_score\r\n",
        "from sklearn.metrics import mean_squared_error\r\n",
        "\r\n",
        "import os\r\n",
        "import time"
      ],
      "execution_count": 1,
      "outputs": []
    },
    {
      "cell_type": "markdown",
      "metadata": {
        "id": "aYSNh4hPCLCF"
      },
      "source": [
        "# Train"
      ]
    },
    {
      "cell_type": "code",
      "metadata": {
        "id": "OTZ2uiyFCLie"
      },
      "source": [
        "#File \"Folsom_weather.csv\" is acessible in <https://zenodo.org/record/2826939#.YEawC9xv-M9>\r\n",
        "weatherPath = \"your_path_to_folsom_weather.csv\"\r\n",
        "\r\n",
        "\r\n",
        "#File \"Folsom_irradiance.csv\" is acessible in <https://zenodo.org/record/2826939#.YEawC9xv-M9>\r\n",
        "irradiancePath = \"your_path_to_folsom_irradiance.csv\"\r\n",
        "\r\n",
        "\r\n",
        "\r\n",
        "#For Complete Input Set models, uncomment line below and comment line drops for reduced input\r\n",
        "#drops = None\r\n",
        "\r\n",
        "#For Reduced Input Set models\r\n",
        "drops = ['relhum', 'press', 'max_windsp', 'precipitation']\r\n",
        "\r\n",
        "timeStamps = [1, 15, 60] #Minutes\r\n",
        "layers = [[10], [30], [60], [5,5], [15,15], [30,30]] #Layers\r\n",
        "\r\n",
        "train(timeStamps, layers, weatherPath, irradiancePath, \"some_path_to_save_models\", True ,drops)\r\n"
      ],
      "execution_count": null,
      "outputs": []
    },
    {
      "cell_type": "markdown",
      "metadata": {
        "id": "UYlaHuRJESqZ"
      },
      "source": [
        "# Test and graph"
      ]
    },
    {
      "cell_type": "code",
      "metadata": {
        "id": "bf_jzhaVEk_D"
      },
      "source": [
        "from utils import data_for_graph_per_day, data_for_graph_per_interval\r\n",
        "from utils import get_data\r\n",
        "\r\n",
        "timeStamp = 1\r\n",
        "\r\n",
        "#For Complete Input Set models, uncomment line below and comment line drops for reduced input\r\n",
        "drops = None\r\n",
        "\r\n",
        "#For Reduced Input Set models\r\n",
        "#drops = ['relhum', 'press', 'max_windsp', 'precipitation']\r\n",
        "\r\n",
        "\r\n",
        "\r\n",
        "data = get_data(weatherPath, irradiancePath, timeStamp, drops)\r\n",
        "\r\n",
        "_, X_test, y_test = data_for_graph_per_day(data,2016, \"5\", [1,6], True)\r\n",
        "#_, X_test, y_test = data_for_graph_per_interval(data,2016, \"5\", [780,7500], True)\r\n",
        "\r\n",
        "\r\n",
        "model_path = \"some_model_path\"\r\n",
        "\r\n",
        "model = load_model(model_path)"
      ],
      "execution_count": null,
      "outputs": []
    },
    {
      "cell_type": "code",
      "metadata": {
        "id": "oF1JYR4sEa_N"
      },
      "source": [
        "y_pred = model.predict(X_test)"
      ],
      "execution_count": null,
      "outputs": []
    },
    {
      "cell_type": "code",
      "metadata": {
        "id": "zewnAmvyGZWx"
      },
      "source": [
        "from utils import print_result\r\n",
        "\r\n",
        "print_result(model, X_test, y_test)"
      ],
      "execution_count": null,
      "outputs": []
    },
    {
      "cell_type": "code",
      "metadata": {
        "id": "4l3FlskLGhkh"
      },
      "source": [
        "#with y_test and y_pred you can make any graph"
      ],
      "execution_count": null,
      "outputs": []
    }
  ]
}